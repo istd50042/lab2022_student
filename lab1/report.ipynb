{
 "cells": [
  {
   "cell_type": "markdown",
   "id": "searching-pioneer",
   "metadata": {},
   "source": [
    "## FCS Lab 1 Submission Report"
   ]
  },
  {
   "cell_type": "markdown",
   "id": "raised-victim",
   "metadata": {},
   "source": [
    "* Name of Student(s): \n",
    "* Student ID(s):"
   ]
  },
  {
   "cell_type": "code",
   "execution_count": 1,
   "id": "closed-bacteria",
   "metadata": {},
   "outputs": [
    {
     "name": "stdout",
     "output_type": "stream",
     "text": [
      "Execution time: 2022-05-23 02:09:58\n"
     ]
    }
   ],
   "source": [
    "import datetime\n",
    "print(\"Execution time:\", datetime.datetime.now(datetime.timezone.utc).strftime(\"%Y-%m-%d %H:%M:%S\"))"
   ]
  },
  {
   "cell_type": "markdown",
   "id": "distributed-roots",
   "metadata": {},
   "source": [
    "### Part I: Shift Cipher for printable input"
   ]
  },
  {
   "cell_type": "code",
   "execution_count": 2,
   "id": "gentle-demographic",
   "metadata": {},
   "outputs": [
    {
     "name": "stderr",
     "output_type": "stream",
     "text": [
      "Python was not found; run without arguments to install from the Microsoft Store, or disable this shortcut from Settings > Manage App Execution Aliases.\n",
      "'cat' is not recognized as an internal or external command,\n",
      "operable program or batch file.\n"
     ]
    }
   ],
   "source": [
    "!python3 ex1.py -i sherlock_short.txt -o sherlock_short.en -k 42 -m e\n",
    "!cat sherlock_short.en"
   ]
  },
  {
   "cell_type": "code",
   "execution_count": null,
   "id": "handled-adobe",
   "metadata": {},
   "outputs": [],
   "source": [
    "!python3 ex1.py -i sherlock_short.en -o sherlock_short.de.txt -k 42 -m d\n",
    "!cat sherlock_short.de.txt"
   ]
  },
  {
   "cell_type": "markdown",
   "id": "warming-producer",
   "metadata": {},
   "source": [
    "Expected output:\n",
    "```\n",
    "Mr. Sherlock Holmes, who was usually very late in the mornings, save upon those not infrequent occasions when he was up all night, was seated at the breakfast table. \n",
    "```"
   ]
  },
  {
   "cell_type": "markdown",
   "id": "severe-static",
   "metadata": {},
   "source": [
    "### Part II: Shift Cipher for binary input"
   ]
  },
  {
   "cell_type": "code",
   "execution_count": null,
   "id": "corresponding-calgary",
   "metadata": {},
   "outputs": [],
   "source": [
    "!python3 ex2.py -i sherlock_short.txt -o sherlock_short.en.bin -k 42 -m e\n",
    "!cat sherlock_short.en.bin"
   ]
  },
  {
   "cell_type": "code",
   "execution_count": null,
   "id": "fiscal-turkish",
   "metadata": {},
   "outputs": [],
   "source": [
    "!python3 ex2.py -i sherlock_short.en.bin -o sherlock_short.de.txt -k 42 -m d\n",
    "!cat sherlock_short.de.txt"
   ]
  },
  {
   "cell_type": "markdown",
   "id": "measured-visitor",
   "metadata": {},
   "source": [
    "Expected output:\n",
    "```\n",
    "Mr. Sherlock Holmes, who was usually very late in the mornings, save upon those not infrequent occasions when he was up all night, was seated at the breakfast table. \n",
    "```"
   ]
  },
  {
   "cell_type": "markdown",
   "id": "weekly-browse",
   "metadata": {},
   "source": [
    "### Part III: Break Shift Cipher of ﬂag"
   ]
  },
  {
   "cell_type": "code",
   "execution_count": null,
   "id": "united-luxury",
   "metadata": {},
   "outputs": [],
   "source": [
    "# fill this in!\n",
    "!file ''"
   ]
  },
  {
   "cell_type": "markdown",
   "id": "national-irrigation",
   "metadata": {},
   "source": [
    "Expected output:\n",
    "\n",
    "You'll know it's correct when you see it..."
   ]
  }
 ],
 "metadata": {
  "kernelspec": {
   "display_name": "Python 3 (ipykernel)",
   "language": "python",
   "name": "python3"
  },
  "language_info": {
   "codemirror_mode": {
    "name": "ipython",
    "version": 3
   },
   "file_extension": ".py",
   "mimetype": "text/x-python",
   "name": "python",
   "nbconvert_exporter": "python",
   "pygments_lexer": "ipython3",
   "version": "3.9.12"
  }
 },
 "nbformat": 4,
 "nbformat_minor": 5
}
