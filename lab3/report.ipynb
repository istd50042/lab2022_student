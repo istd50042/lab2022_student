{
 "cells": [
  {
   "cell_type": "markdown",
   "id": "applicable-mozambique",
   "metadata": {},
   "source": [
    "# FCS Lab 3 - MD5, Rainbow Tables"
   ]
  },
  {
   "cell_type": "markdown",
   "id": "beneficial-constitutional",
   "metadata": {},
   "source": [
    "* Name(s):\n",
    "* Student ID(s): "
   ]
  },
  {
   "cell_type": "markdown",
   "id": "identified-wagon",
   "metadata": {},
   "source": [
    "## Part I: Hashing Using MD5\n",
    "\n",
    "* How does the length of the hash correspond to the input string?"
   ]
  },
  {
   "cell_type": "markdown",
   "id": "international-combining",
   "metadata": {},
   "source": []
  },
  {
   "cell_type": "markdown",
   "id": "million-aberdeen",
   "metadata": {},
   "source": [
    "* Are there any visible correlations between the hash and the input string?"
   ]
  },
  {
   "cell_type": "markdown",
   "id": "rough-boutique",
   "metadata": {},
   "source": []
  },
  {
   "cell_type": "markdown",
   "id": "protective-twenty",
   "metadata": {},
   "source": [
    "* What are the issues related to the cryptographic weakness of MD5?"
   ]
  },
  {
   "cell_type": "markdown",
   "id": "endangered-conspiracy",
   "metadata": {},
   "source": []
  },
  {
   "cell_type": "markdown",
   "id": "satisfied-packet",
   "metadata": {},
   "source": [
    "## Part II: Break Hashes with Brute Force\n",
    "\n",
    "* How much time did you take in total?"
   ]
  },
  {
   "cell_type": "markdown",
   "id": "acoustic-vietnam",
   "metadata": {},
   "source": []
  },
  {
   "cell_type": "markdown",
   "id": "other-worry",
   "metadata": {},
   "source": [
    "* How much time does it take to crack each string, on average?"
   ]
  },
  {
   "cell_type": "markdown",
   "id": "allied-dragon",
   "metadata": {},
   "source": []
  },
  {
   "cell_type": "markdown",
   "id": "grave-phase",
   "metadata": {},
   "source": [
    "* Is it possible to amortize (gradually write off the initial cost of) the brute forcing attempts?"
   ]
  },
  {
   "cell_type": "markdown",
   "id": "typical-broadcasting",
   "metadata": {},
   "source": []
  },
  {
   "cell_type": "markdown",
   "id": "stunning-undergraduate",
   "metadata": {},
   "source": [
    "## Part III: Creating Rainbow Tables\n",
    "\n",
    "* Is rcrack faster/slower than your script ex2.py? By how much faster/slower is it?"
   ]
  },
  {
   "cell_type": "markdown",
   "id": "marine-hudson",
   "metadata": {},
   "source": []
  },
  {
   "cell_type": "markdown",
   "id": "international-argument",
   "metadata": {},
   "source": [
    "* Do you observe any advantages or disadvantages of using rainbowcrack?"
   ]
  },
  {
   "cell_type": "markdown",
   "id": "received-fellowship",
   "metadata": {},
   "source": []
  },
  {
   "cell_type": "markdown",
   "id": "pleasant-threat",
   "metadata": {},
   "source": [
    "## Part IV: Salt\n",
    "\n",
    "* What is the observed differences between your ease of cracking the salted vs the unsalted plaintexts?"
   ]
  },
  {
   "cell_type": "markdown",
   "id": "bizarre-worker",
   "metadata": {},
   "source": []
  },
  {
   "cell_type": "markdown",
   "id": "novel-party",
   "metadata": {},
   "source": [
    "* Report the difference in time observed to crack."
   ]
  },
  {
   "cell_type": "markdown",
   "id": "private-collective",
   "metadata": {},
   "source": []
  },
  {
   "cell_type": "markdown",
   "id": "practical-transportation",
   "metadata": {},
   "source": [
    "* Explain any differences between salted and non salted rcrack strategies."
   ]
  },
  {
   "cell_type": "markdown",
   "id": "excessive-pearl",
   "metadata": {},
   "source": []
  },
  {
   "cell_type": "markdown",
   "id": "endangered-address",
   "metadata": {},
   "source": [
    "## Part V: Hash Breaking Competition\n",
    "\n",
    "* What is the approach you used to crack the hashes"
   ]
  },
  {
   "cell_type": "markdown",
   "id": "outside-malpractice",
   "metadata": {},
   "source": []
  },
  {
   "cell_type": "markdown",
   "id": "obvious-cassette",
   "metadata": {},
   "source": [
    "* How you decided or designed your approach"
   ]
  },
  {
   "cell_type": "markdown",
   "id": "chicken-blast",
   "metadata": {},
   "source": []
  },
  {
   "cell_type": "markdown",
   "id": "simple-cookbook",
   "metadata": {},
   "source": [
    "* Main challenges and limitations of your approach"
   ]
  },
  {
   "cell_type": "markdown",
   "id": "future-tulsa",
   "metadata": {},
   "source": []
  },
  {
   "cell_type": "markdown",
   "id": "original-halifax",
   "metadata": {},
   "source": [
    "* How many hashes did you manage to crack?"
   ]
  },
  {
   "cell_type": "code",
   "execution_count": null,
   "id": "discrete-prevention",
   "metadata": {},
   "outputs": [],
   "source": []
  }
 ],
 "metadata": {
  "kernelspec": {
   "display_name": "Python 3",
   "language": "python",
   "name": "python3"
  },
  "language_info": {
   "codemirror_mode": {
    "name": "ipython",
    "version": 3
   },
   "file_extension": ".py",
   "mimetype": "text/x-python",
   "name": "python",
   "nbconvert_exporter": "python",
   "pygments_lexer": "ipython3",
   "version": "3.9.1"
  }
 },
 "nbformat": 4,
 "nbformat_minor": 5
}
