{
 "cells": [
  {
   "cell_type": "markdown",
   "id": "express-eclipse",
   "metadata": {},
   "source": [
    "## FCS Lab 2 Submission Report"
   ]
  },
  {
   "cell_type": "markdown",
   "id": "stretch-lunch",
   "metadata": {},
   "source": [
    "* Name of Student(s): \n",
    "* Student ID(s):"
   ]
  },
  {
   "cell_type": "code",
   "execution_count": null,
   "id": "active-machine",
   "metadata": {},
   "outputs": [],
   "source": [
    "import base64\n",
    "import requests\n",
    "def XOR(a, b):\n",
    "    r = b\"\"\n",
    "    for x, y in zip(a, b):\n",
    "        r += (x ^ y).to_bytes(1, \"big\")\n",
    "    return r\n",
    "class Client:\n",
    "    def __init__(self, endpoint, uid):\n",
    "        self.endpoint = endpoint\n",
    "        self.uid = str(uid).lower().strip()\n",
    "    def post(self, url, data=None):\n",
    "        r = requests.post(url, json=data).json()\n",
    "        if not r[\"success\"]:\n",
    "            print(\"Warning: something might be wrong with the server\")\n",
    "            print(\"If you don't think is your mistake, please report it!\")\n",
    "        return r\n",
    "    def get_story_cipher(self):\n",
    "        url = self.endpoint+\"/story\"\n",
    "        return requests.get(url).json()\n",
    "    def post_story_plaintext(self, solution):\n",
    "        url = self.endpoint+\"/story\"\n",
    "        solution = str(solution).lower().strip()\n",
    "        data = {\"solution\":solution}\n",
    "        return self.post(url, data)\n",
    "    def get_score_msg_cipher(self):\n",
    "        url = self.endpoint+\"/score\"\n",
    "        data = {\"request\":\"get_msg\", \"id\":self.uid}\n",
    "        return self.post(url, data)\n",
    "    def submit_score_msg_cipher(self, cipher_base64):\n",
    "        url = self.endpoint+\"/score\"\n",
    "        data = {\"request\":\"decrypt_msg\", \"id\":self.uid, \"cipher\": cipher_base64}\n",
    "        return self.post(url, data)\n",
    "    def base64_encode_bytes(self, byte_array):\n",
    "        return str(base64.b64encode(byte_array))[2:-1]\n",
    "    def base64_decode_bytes(self, base64_string):\n",
    "        return base64.b64decode(base64_string)"
   ]
  },
  {
   "cell_type": "code",
   "execution_count": null,
   "id": "pleased-simon",
   "metadata": {},
   "outputs": [],
   "source": [
    "endpoint = \"http://35.197.130.121/\"\n",
    "uid = YOUR_CHOSEN_ID\n",
    "\n",
    "client = Client(endpoint, uid)"
   ]
  },
  {
   "cell_type": "markdown",
   "id": "mobile-affect",
   "metadata": {},
   "source": [
    "## Part I: Story - Substitution Cipher\n",
    "\n",
    "1. GET the cipher for the story\n",
    "2. Crack this with frequency analysis\n",
    "3. POST it back to the server to check (example is provided below)\n",
    "\n",
    "If the response contains `'solution_correct': 'correct'`, then your decryption is correct. Otherwise, a distance will be provided to let you know how far off you are. If you are off by a tiny bit (say, 1 or 2), you can check things like line-ending, extra space at start/end etc. The verification is not case sensitive."
   ]
  },
  {
   "cell_type": "code",
   "execution_count": null,
   "id": "heavy-soviet",
   "metadata": {},
   "outputs": [],
   "source": [
    "story_cipher = client.get_story_cipher()[\"cipher\"]\n",
    "print(\"story_cipher:\", story_cipher[:50], \"...\")"
   ]
  },
  {
   "cell_type": "code",
   "execution_count": null,
   "id": "powerful-zoning",
   "metadata": {},
   "outputs": [],
   "source": [
    "# example posting a string back to the server\n",
    "client.post_story_plaintext(\"random\")\n",
    "# a distance is provided for you to check how close you are"
   ]
  },
  {
   "cell_type": "code",
   "execution_count": null,
   "id": "cubic-optimization",
   "metadata": {},
   "outputs": [],
   "source": [
    "# you can also load solution from a text file\n",
    "with open(\"./solution.txt\", \"r\") as file:\n",
    "    PART_1_SOLUTION = file.read()\n",
    "part_1_result = client.post_story_plaintext(PART_1_SOLUTION)\n",
    "print(part_1_result)\n",
    "assert part_1_result[\"solution_correct\"] == \"correct\""
   ]
  },
  {
   "cell_type": "markdown",
   "id": "directed-scholar",
   "metadata": {},
   "source": [
    "## Part II: Changing the Score Message - OTP"
   ]
  },
  {
   "cell_type": "code",
   "execution_count": null,
   "id": "quarterly-florence",
   "metadata": {},
   "outputs": [],
   "source": [
    "response = client.get_score_msg_cipher()\n",
    "print(response)"
   ]
  },
  {
   "cell_type": "code",
   "execution_count": null,
   "id": "passive-jewelry",
   "metadata": {},
   "outputs": [],
   "source": [
    "cipher = client.base64_decode_bytes(response[\"cipher\"])\n",
    "print(cipher)"
   ]
  },
  {
   "cell_type": "code",
   "execution_count": null,
   "id": "saved-yield",
   "metadata": {},
   "outputs": [],
   "source": [
    "encoded_cipher = client.base64_encode_bytes(cipher)\n",
    "client.submit_score_msg_cipher(encoded_cipher)"
   ]
  },
  {
   "cell_type": "code",
   "execution_count": null,
   "id": "motivated-pollution",
   "metadata": {},
   "outputs": [],
   "source": [
    "new_cipher = hax()\n",
    "encoded_new_cipher = client.base64_encode_bytes(new_cipher)\n",
    "client.submit_score_msg_cipher(encoded_new_cipher)"
   ]
  },
  {
   "cell_type": "code",
   "execution_count": null,
   "id": "consecutive-person",
   "metadata": {},
   "outputs": [],
   "source": []
  }
 ],
 "metadata": {
  "kernelspec": {
   "display_name": "Python 3",
   "language": "python",
   "name": "python3"
  },
  "language_info": {
   "codemirror_mode": {
    "name": "ipython",
    "version": 3
   },
   "file_extension": ".py",
   "mimetype": "text/x-python",
   "name": "python",
   "nbconvert_exporter": "python",
   "pygments_lexer": "ipython3",
   "version": "3.9.1"
  }
 },
 "nbformat": 4,
 "nbformat_minor": 5
}
